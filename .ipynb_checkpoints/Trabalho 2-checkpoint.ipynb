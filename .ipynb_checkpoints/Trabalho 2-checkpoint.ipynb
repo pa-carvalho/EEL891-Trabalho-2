{
 "cells": [
  {
   "cell_type": "markdown",
   "id": "8d0d0cd1-a468-457e-8884-1fe334cd5833",
   "metadata": {},
   "source": [
    "# Trabalho 2"
   ]
  },
  {
   "cell_type": "markdown",
   "id": "05ded0a5-824e-4b91-b13d-979646d29578",
   "metadata": {},
   "source": [
    "### Importando as bibliotecas que serão usadas no script inteiro"
   ]
  },
  {
   "cell_type": "code",
   "execution_count": 1,
   "id": "6f8ee51e-88eb-42eb-848b-437ed29f410c",
   "metadata": {},
   "outputs": [],
   "source": [
    "import math\n",
    "import pandas  as pd\n",
    "import numpy   as np\n",
    "\n",
    "import matplotlib.pyplot as plt\n",
    "\n",
    "from sklearn.model_selection  import train_test_split, cross_val_score, cross_val_predict\n",
    "from sklearn.metrics          import mean_squared_error\n",
    "from sklearn.preprocessing    import StandardScaler, MinMaxScaler, PolynomialFeatures, LabelBinarizer\n",
    "\n",
    "from sklearn.linear_model     import LinearRegression, Ridge, Lasso, SGDRegressor\n",
    "from sklearn.neighbors        import KNeighborsRegressor\n",
    "from sklearn.ensemble         import RandomForestRegressor\n",
    "\n",
    "from scipy.stats              import pearsonr"
   ]
  },
  {
   "cell_type": "markdown",
   "id": "30c2ad64-ccca-4eea-8601-16dc1f458d1d",
   "metadata": {},
   "source": [
    "### Inserindo os dados do conjunto de treinamento e teste em variáveis"
   ]
  },
  {
   "cell_type": "code",
   "execution_count": 2,
   "id": "6eedfce2-c864-4acb-b52f-6b03ff02b371",
   "metadata": {},
   "outputs": [],
   "source": [
    "dados = pd.read_csv(\"conjunto_de_treinamento.csv\")\n",
    "dados_teste = pd.read_csv(\"conjunto_de_teste.csv\")"
   ]
  },
  {
   "cell_type": "markdown",
   "id": "a341f272-2150-45a5-be8a-fabbe8c112c5",
   "metadata": {},
   "source": [
    "Verificando as variáveis e a quantidade de cada uma para fazer o pré-processamento dos dados"
   ]
  },
  {
   "cell_type": "code",
   "execution_count": 3,
   "id": "0801f456-eb42-4cc5-8937-4ac189858136",
   "metadata": {},
   "outputs": [
    {
     "name": "stdout",
     "output_type": "stream",
     "text": [
      "\n",
      "             Id:  4683 categorias\n",
      "[2000 2001 2002 ... 6680 6681 6682] \n",
      "\n",
      "\n",
      "           tipo:     4 categorias\n",
      "['Casa' 'Apartamento' 'Quitinete' 'Loft'] \n",
      "\n",
      "\n",
      "         bairro:    66 categorias\n",
      "['Imbiribeira' 'Casa Amarela' 'Encruzilhada' 'Boa Viagem' 'Rosarinho'\n",
      " 'Boa Vista' 'Espinheiro' 'Tamarineira' 'Gracas' 'Madalena' 'Parnamirim'\n",
      " 'S Jose' 'Setubal' 'Arruda' 'Pina' 'Beira Rio' 'Caxanga' 'Casa Forte'\n",
      " 'Prado' 'Iputinga' 'Campo Grande' 'Dois Irmaos' 'Torreao'\n",
      " 'Ilha do Retiro' 'Areias' 'Varzea' 'Cordeiro' 'Torre' 'Santana' 'Barro'\n",
      " 'Poco da Panela' 'Ipsep' 'Aflitos' 'Poco' 'Apipucos' 'Derby'\n",
      " 'Cid Universitaria' 'Bongi' 'Jaqueira' 'Sto Amaro' 'Tejipio' 'Recife'\n",
      " 'Monteiro' 'Macaxeira' 'Sancho' 'Afogados' 'San Martin' 'Cajueiro'\n",
      " 'Hipodromo' 'Guabiraba' 'Engenho do Meio' 'Piedade' 'Jd S Paulo'\n",
      " 'Lagoa do Araca' 'Ponto de Parada' 'Ilha do Leite' 'Estancia' 'Paissandu'\n",
      " 'Zumbi' 'Agua Fria' 'Benfica' 'Soledade' 'Centro' 'Sto Antonio' 'Coelhos'\n",
      " 'Cohab'] \n",
      "\n",
      "\n",
      "  tipo_vendedor:     2 categorias\n",
      "['Imobiliaria' 'Pessoa Fisica'] \n",
      "\n",
      "\n",
      "        quartos:     9 categorias\n",
      "[3 4 2 1 5 6 7 8 9] \n",
      "\n",
      "\n",
      "         suites:     7 categorias\n",
      "[3 4 1 0 2 5 6] \n",
      "\n",
      "\n",
      "          vagas:    17 categorias\n",
      "[ 5  2  0  1  3  4  6  8 10  7 20 18 12 17 13 15 30] \n",
      "\n",
      "\n",
      "      area_util:   356 categorias\n",
      "[ 223  157   53  149   54  130  105  124  170   72  125  150   92  120\n",
      "  500   75  104  135   82  198   67  145  163  100  209  247   65   88\n",
      "   50  109   80   97   57   93  310  159   96   55   89   60  161   66\n",
      "  113  133   64   70   56  177   38  204  110   52  237   63  137   95\n",
      "   78  140  200  205   90  132   68  127  119  165  203  128  101   86\n",
      "   43   46  289  263  285  102 1304  220   61   79  400   77   47  213\n",
      "  107  139   76  274   73  370  155  230  210  173   59  265  186   58\n",
      "  255   85  106  114  295  312  193  152  160  147  166   48  405   27\n",
      "  256   69  126  118  115   94  181  208   81  480  138  464   62  178\n",
      "   29   91   99  270  185  245  260  250   74  156  207   83  154  117\n",
      "   87  180  141  121 1000  153  112  171   45  129   32  199  167  472\n",
      "   34   33  136  190  212  168  215  322   98  224   84  240  158  800\n",
      "  131  340  249   40   49  275  307   41   26  116   36  146  360  750\n",
      "  122  187  108  234   42  142  248  143  175  148  189   30  151   44\n",
      "  341  231  302   71  330  343  350  176   31  144  775  134  188  303\n",
      "  241   51  197  172  174  216  618  401  284  202  321   39  447  217\n",
      "  420  375  225  550  218  214  123  243 1855  258   37   23  111  278\n",
      "  192  164  300  495  296  182  103  335   35  374  259  385  257  320\n",
      "  262  940  229  162  238  455  280   25   28  561  388  169  339  430\n",
      "  317  357  288  682  338  467  290  452  221  580  273  183  403  226\n",
      "  569  184  235  337  556  292  380  179  650 1580  261  577  530  450\n",
      "  308 1019  253  251  254  429  219  553  232  354  268  196   24  246\n",
      "  453  931  848  716  323  386  327  244  252  334  283  333  466  406\n",
      "  720  639  201  282  529  287  367  490  277  685  410  195  211 2045\n",
      "  236  807  326  328  206  324  266  395  520  700  680  394  560  365\n",
      "  297  294   21  281  227 1705] \n",
      "\n",
      "\n",
      "     area_extra:   170 categorias\n",
      "[  167     0    22   110    20   117    10    42   130    34    30    36\n",
      "    25    39   415    88   545    83    19    76    26    33    15   203\n",
      "    16    13     1    48    86   222    12    37    50    28   200    24\n",
      "    11   152    40     9   112    29    21     7   250   135    78    43\n",
      "     6   160   220   232    72    57   162    99   126    75    27   100\n",
      "    53    51   231    58   140    82    47    55   144     4    66   129\n",
      "    18     8    38    52   800    65    54    46    77    73   133    71\n",
      "   147    60   210   252    41   882    84    68    62   500    56   360\n",
      "   125   478    17  1100   470   370   116    32    90    49  4173   134\n",
      "    35    70   181    69   145   304    85   185   155    61     5   139\n",
      "   105   320    23   170   120    92   225   161   536  1285   111   213\n",
      "   270   730    67    44    80    63   132    14     2   223     3  1308\n",
      "    94    79    45    89   620   248   217    59    98   224   169   136\n",
      "   321    81   300   173    64   336   103   289   107   306   180    31\n",
      "    91 17450] \n",
      "\n",
      "\n",
      "   diferenciais:    83 categorias\n",
      "['piscina e copa' 'piscina e churrasqueira' 'nenhum' 'playground'\n",
      " 'piscina e playground' 'sauna e playground' 'piscina e sauna'\n",
      " 'piscina e quadra poliesportiva' 'salao de festas'\n",
      " 'campo de futebol e playground' 'piscina e estacionamento visitantes'\n",
      " 'copa e salao de festas' 'esquina e salao de festas'\n",
      " 'piscina e salao de festas' 'playground e sala de ginastica'\n",
      " 'copa e playground' 'estacionamento visitantes e playground'\n",
      " 'playground e salao de festas' 'churrasqueira e playground'\n",
      " 'churrasqueira e copa' 'churrasqueira e salao de festas' 'copa' 'esquina'\n",
      " 'piscina' 'playground e quadra poliesportiva' 'estacionamento visitantes'\n",
      " 'piscina e esquina' 'copa e esquina'\n",
      " 'estacionamento visitantes e salao de festas'\n",
      " 'piscina e campo de futebol' 'frente para o mar e salao de festas'\n",
      " 'churrasqueira' 'churrasqueira e campo de futebol'\n",
      " 'piscina e frente para o mar' 'sala de ginastica e salao de festas'\n",
      " 'sauna e esquina' 'sauna e salao de festas' 'frente para o mar'\n",
      " 'salao de jogos' 'esquina e playground' 'frente para o mar e playground'\n",
      " 'salao de festas e salao de jogos' 'sauna e campo de futebol'\n",
      " 'esquina e quadra poliesportiva' 'piscina e sala de ginastica'\n",
      " 'frente para o mar e copa' 'churrasqueira e sauna'\n",
      " 'piscina e children care' 'frente para o mar e esquina'\n",
      " 'copa e estacionamento visitantes' 'campo de futebol e esquina'\n",
      " 'churrasqueira e estacionamento visitantes' 'sala de ginastica'\n",
      " 'campo de futebol e estacionamento visitantes'\n",
      " 'esquina e estacionamento visitantes'\n",
      " 'frente para o mar e quadra poliesportiva' 'piscina e quadra de squash'\n",
      " 'quadra poliesportiva e salao de festas' 'esquina e sala de ginastica'\n",
      " 'salao de festas e vestiario' 'sauna e copa' 'piscina e hidromassagem'\n",
      " 'churrasqueira e sala de ginastica' 'sauna e frente para o mar'\n",
      " 'campo de futebol e salao de festas' 'copa e quadra poliesportiva'\n",
      " 'churrasqueira e esquina' 'sala de ginastica e salao de jogos'\n",
      " 'churrasqueira e frente para o mar' 'piscina e salao de jogos'\n",
      " 'sauna e sala de ginastica' 'sauna e quadra poliesportiva'\n",
      " 'children care' 'copa e sala de ginastica' 'playground e salao de jogos'\n",
      " 'quadra poliesportiva' 'vestiario' 'children care e playground'\n",
      " 'estacionamento visitantes e sala de ginastica'\n",
      " 'frente para o mar e campo de futebol' 'campo de futebol e copa' 'sauna'\n",
      " 'campo de futebol e quadra poliesportiva'] \n",
      "\n",
      "\n",
      "  churrasqueira:     2 categorias\n",
      "[0 1] \n",
      "\n",
      "\n",
      " estacionamento:     2 categorias\n",
      "[0 1] \n",
      "\n",
      "\n",
      "        piscina:     2 categorias\n",
      "[1 0] \n",
      "\n",
      "\n",
      "     playground:     2 categorias\n",
      "[0 1] \n",
      "\n",
      "\n",
      "         quadra:     2 categorias\n",
      "[0 1] \n",
      "\n",
      "\n",
      "       s_festas:     2 categorias\n",
      "[0 1] \n",
      "\n",
      "\n",
      "        s_jogos:     2 categorias\n",
      "[0 1] \n",
      "\n",
      "\n",
      "    s_ginastica:     2 categorias\n",
      "[0 1] \n",
      "\n",
      "\n",
      "          sauna:     2 categorias\n",
      "[0 1] \n",
      "\n",
      "\n",
      "      vista_mar:     2 categorias\n",
      "[0 1] \n",
      "\n",
      "\n",
      "          preco:   679 categorias\n",
      "[1.0000000e+06 6.8000000e+05 4.5000000e+05 1.0800000e+06 3.5000000e+05\n",
      " 4.9000000e+05 3.9000000e+05 1.3500000e+06 4.0000000e+05 9.8000000e+05\n",
      " 1.2000000e+06 2.1500000e+05 7.5000000e+05 5.8000000e+05 1.5000000e+06\n",
      " 3.0000000e+05 4.2000000e+05 5.6000000e+05 4.8900000e+05 1.3000000e+06\n",
      " 3.8000000e+05 6.9000000e+05 7.0000000e+05 2.2000000e+06 3.7000000e+05\n",
      " 5.7900000e+05 2.6500000e+05 4.7000000e+05 9.0000000e+05 8.1400000e+05\n",
      " 2.9850000e+05 1.1000000e+06 6.3500000e+05 1.6000000e+05 4.8000000e+05\n",
      " 9.5000000e+05 4.4000000e+05 7.9000000e+05 8.6000000e+05 4.6000000e+05\n",
      " 1.6900000e+05 1.6000000e+06 3.3000000e+05 5.3000000e+05 4.3500000e+05\n",
      " 3.2000000e+05 1.7500000e+06 2.2000000e+05 2.0000000e+05 3.1400000e+05\n",
      " 6.0700000e+05 2.2500000e+05 3.9500000e+05 1.4000000e+06 5.5000000e+05\n",
      " 2.7000000e+05 1.0036800e+06 8.2000000e+05 1.7500000e+05 5.2000000e+05\n",
      " 3.5000000e+06 2.4000000e+05 6.2000000e+05 8.5000000e+05 2.4900000e+05\n",
      " 4.7400000e+05 3.0500000e+05 4.3000000e+05 6.5000000e+05 7.8000000e+05\n",
      " 1.0650000e+06 1.2500000e+06 4.5600000e+05 4.0900000e+05 3.6000000e+05\n",
      " 9.5900000e+05 2.7500000e+06 2.2500000e+06 1.3075500e+06 3.1700000e+05\n",
      " 1.1500000e+06 1.4900000e+06 3.4000000e+05 1.6577850e+06 3.2500000e+05\n",
      " 6.3000000e+05 2.9500000e+05 4.2500000e+05 8.7000000e+05 3.8800800e+05\n",
      " 2.8753500e+05 1.2900000e+06 4.3410000e+05 2.3500000e+06 2.8000000e+05\n",
      " 8.9000000e+05 6.6500000e+05 3.3500000e+05 3.7900000e+06 1.8000000e+05\n",
      " 2.8500000e+05 4.5500000e+05 1.7000000e+05 3.1000000e+05 8.4000000e+05\n",
      " 7.2000000e+05 2.6850000e+05 6.0000000e+05 7.4000000e+05 5.9900000e+05\n",
      " 2.1000000e+06 3.7300000e+05 5.2500000e+05 2.1700000e+05 5.9000000e+05\n",
      " 5.9840000e+05 4.1000000e+05 8.0000000e+05 1.6200000e+06 3.9900000e+05\n",
      " 2.5000000e+06 5.7000000e+05 6.7000000e+05 2.7000000e+06 3.4800000e+05\n",
      " 2.6000000e+05 3.9800000e+05 5.4000000e+05 2.9000000e+05 1.6500000e+05\n",
      " 7.6100000e+05 1.9000000e+06 7.3500000e+05 2.8900000e+05 5.4500000e+05\n",
      " 1.5980000e+06 4.9600000e+05 4.9900000e+05 8.8000000e+05 1.1400000e+06\n",
      " 4.3800000e+05 5.3500000e+05 2.3000000e+05 5.0000000e+05 2.5000000e+05\n",
      " 4.7290000e+05 5.1000000e+05 2.1000000e+05 9.1500000e+05 7.9700000e+05\n",
      " 5.5000000e+06 4.9500000e+05 3.8500000e+05 1.1180000e+06 2.6100000e+05\n",
      " 1.4500000e+06 7.1000000e+05 6.4000000e+05 2.9100000e+05 3.7568200e+05\n",
      " 1.7000000e+06 2.7500000e+05 2.5980000e+05 7.6700000e+05 3.1900000e+05\n",
      " 6.3000000e+08 1.2899240e+06 1.0500000e+06 4.7500000e+05 1.6500000e+06\n",
      " 3.0093000e+05 1.3490000e+06 2.4000000e+06 4.6200000e+05 5.5396600e+05\n",
      " 2.0500000e+05 3.8000000e+06 4.5147300e+05 3.1500000e+05 2.9700000e+05\n",
      " 8.3000000e+05 1.8000000e+06 6.9600000e+05 2.9600000e+05 1.5500000e+05\n",
      " 4.8800000e+05 5.4000000e+06 2.5500000e+05 4.0600000e+05 1.5570000e+06\n",
      " 6.1000000e+05 4.5360000e+05 9.8655700e+05 1.7300000e+06 1.1100000e+06\n",
      " 1.8900000e+05 2.0000000e+06 1.3210000e+06 4.5990000e+05 5.8900000e+05\n",
      " 2.2658000e+05 5.6700000e+05 1.2780000e+06 4.1000000e+06 1.2390000e+06\n",
      " 4.7900000e+05 5.7500000e+05 2.5900000e+05 1.2000000e+05 4.0500000e+05\n",
      " 3.2400000e+05 5.9500000e+05 2.2300000e+05 2.1500000e+06 3.8600000e+05\n",
      " 2.3500000e+05 5.1900000e+05 1.3900000e+06 2.6800000e+05 2.9900000e+05\n",
      " 3.3600000e+05 7.2200000e+05 8.9400000e+05 3.2000000e+06 7.7000000e+05\n",
      " 7.5040000e+05 2.6900000e+05 1.8500000e+05 5.4630000e+05 1.0300000e+06\n",
      " 7.3000000e+05 1.9600000e+05 1.9400000e+06 5.5307900e+05 2.6800000e+06\n",
      " 5.0419300e+05 2.6500000e+06 6.0697600e+05 6.4500000e+05 3.5800000e+05\n",
      " 5.8000000e+06 3.3765700e+05 1.5500000e+06 3.8691000e+05 6.5000000e+06\n",
      " 7.7500000e+05 7.2500000e+05 4.4500000e+05 2.4500000e+06 3.5700000e+05\n",
      " 1.8500000e+06 3.3168500e+05 3.1344900e+05 3.4828500e+05 4.5200000e+05\n",
      " 5.0500000e+05 4.9700000e+05 3.7500000e+05 3.5400000e+05 7.4500000e+05\n",
      " 4.5700000e+05 3.6500000e+05 1.5416800e+06 1.9500000e+06 1.3000000e+05\n",
      " 4.1600000e+05 9.7000000e+05 6.0316600e+05 5.5800000e+05 1.4000000e+05\n",
      " 4.6572200e+05 4.7000000e+06 3.8100000e+05 7.6500000e+05 4.5000000e+06\n",
      " 3.4500000e+05 3.5300000e+05 5.2900000e+05 3.5650000e+05 3.3924200e+05\n",
      " 1.4300000e+06 7.4550000e+05 9.9000000e+05 2.6000000e+06 9.5500000e+05\n",
      " 4.5800000e+05 3.5400000e+06 1.9000000e+05 5.2100000e+05 6.3100000e+05\n",
      " 1.0720000e+06 5.8500000e+05 3.8200000e+05 4.6500000e+05 1.9900000e+05\n",
      " 4.3400000e+05 8.4500000e+05 7.7480000e+05 4.0550000e+05 4.4800000e+05\n",
      " 3.9700000e+05 1.2950000e+06 3.9279000e+05 9.4000000e+05 3.1345800e+05\n",
      " 1.6800000e+05 4.9400000e+05 3.3100000e+05 9.4500000e+05 4.0051500e+05\n",
      " 4.7800000e+05 9.7500000e+05 1.1440000e+06 6.9980000e+05 3.8300000e+05\n",
      " 5.9100000e+05 7.0620000e+05 9.3000000e+05 4.1700000e+05 9.5600000e+05\n",
      " 3.5500000e+05 2.9500000e+06 3.4290000e+05 6.1800000e+05 4.5423100e+05\n",
      " 4.8500000e+05 3.4500000e+06 1.1200000e+06 5.0144900e+05 3.0000000e+06\n",
      " 4.0910000e+05 2.3000000e+06 4.7200000e+05 4.3900000e+05 1.9500000e+05\n",
      " 8.6500000e+05 3.2840000e+05 2.5420000e+05 6.9500000e+05 3.6400000e+05\n",
      " 3.4900000e+05 5.1200000e+05 3.5200000e+05 5.6200000e+05 1.4650000e+06\n",
      " 3.7900000e+05 4.0800000e+05 4.0000000e+06 1.5800000e+05 1.2100000e+06\n",
      " 2.7300000e+05 4.8720000e+05 6.2200000e+05 1.2206300e+06 6.0901700e+05\n",
      " 4.6041000e+05 2.8103600e+05 7.9500000e+05 9.1800000e+05 4.4000000e+06\n",
      " 3.9279300e+05 2.5079100e+05 6.0690000e+05 8.1000000e+05 7.0600000e+05\n",
      " 3.0200000e+05 1.5000000e+05 5.0000000e+06 3.5350000e+05 3.7100000e+05\n",
      " 3.8400000e+05 2.3400000e+05 7.6000000e+05 3.1000000e+06 5.5141900e+05\n",
      " 5.5400000e+05 3.6435000e+05 2.9999000e+05 4.1500000e+05 7.2760000e+05\n",
      " 4.1155800e+05 7.9157400e+05 1.0000000e+05 4.5771300e+05 8.9500000e+05\n",
      " 3.5697900e+05 3.3919000e+05 6.6000000e+05 3.8284200e+05 6.0300000e+05\n",
      " 4.9256200e+05 4.8700000e+05 6.5500000e+05 2.3250000e+05 7.0500000e+05\n",
      " 3.1200000e+05 1.2899250e+06 3.8614600e+05 4.6080000e+05 4.1200000e+05\n",
      " 6.8900000e+05 7.1000000e+06 1.1900000e+06 1.0890000e+06 3.0380000e+05\n",
      " 5.9800000e+05 4.3539500e+05 2.9000000e+06 6.0289700e+05 2.3550000e+05\n",
      " 4.4100000e+05 2.4500000e+05 5.7800000e+05 2.9672100e+05 2.7900000e+05\n",
      " 1.9300000e+05 5.6500000e+05 3.7360000e+05 3.3800000e+05 3.0870000e+05\n",
      " 2.6640000e+05 4.4038800e+05 2.1480000e+06 3.7140000e+06 4.1750000e+05\n",
      " 4.5147400e+05 1.2800000e+06 5.5200000e+05 2.0600000e+05 1.3300000e+06\n",
      " 3.8520000e+05 2.6700000e+05 3.8614700e+05 3.3281510e+06 2.4600000e+05\n",
      " 3.2600000e+05 2.0900000e+05 5.7303200e+05 8.0665000e+05 6.4754400e+05\n",
      " 1.2500000e+05 2.9999900e+05 1.1450000e+06 3.7700000e+05 5.5900000e+05\n",
      " 2.0700000e+05 7.7600000e+05 9.0500000e+05 2.8400000e+05 7.4800000e+05\n",
      " 3.5615000e+05 8.8600000e+05 8.3600000e+05 2.9547500e+05 5.7400000e+05\n",
      " 2.8000000e+06 3.0600000e+05 6.9900000e+05 2.8700000e+05 2.6165400e+05\n",
      " 2.4294000e+05 2.7200000e+05 3.7127400e+05 2.5500000e+06 1.9900000e+06\n",
      " 5.1500000e+05 9.8500000e+05 1.1800000e+06 2.8499900e+05 5.9180100e+05\n",
      " 4.3300000e+05 3.3270000e+06 2.5550000e+05 6.1441900e+05 4.3794000e+05\n",
      " 5.3040000e+05 6.9800000e+05 4.9800000e+05 2.5248000e+05 3.0453700e+05\n",
      " 6.1500000e+05 4.1800000e+05 4.9301300e+05 6.1600000e+05 3.3700000e+05\n",
      " 8.1600000e+05 3.6670000e+05 1.2600000e+06 2.8999900e+05 2.2300000e+06\n",
      " 6.8500000e+05 1.7300000e+05 3.5250000e+05 1.1906580e+06 6.5000000e+07\n",
      " 3.6900000e+05 2.7100000e+05 4.5272700e+05 8.6783300e+05 1.4800000e+06\n",
      " 1.3150000e+06 3.6000000e+06 1.4950000e+06 9.1200000e+05 8.3100000e+05\n",
      " 3.1960400e+05 3.5500000e+06 2.9950000e+06 8.4900000e+05 2.7400000e+05\n",
      " 4.2027000e+05 1.1410000e+06 1.4400000e+06 5.6420000e+05 3.5097700e+05\n",
      " 9.8465700e+05 3.7415000e+05 2.0977360e+06 1.6264500e+05 1.7700000e+05\n",
      " 2.5220000e+05 6.4437900e+05 3.2800000e+05 5.4600000e+05 3.6878213e+05\n",
      " 5.4700000e+05 1.2280000e+06 3.7400000e+05 1.1700000e+06 9.2000000e+05\n",
      " 1.1490000e+06 9.4900000e+05 1.8490000e+06 3.4000000e+06 2.4900000e+06\n",
      " 5.0700000e+05 7.3521600e+05 2.5250000e+05 3.7800000e+05 3.5220000e+06\n",
      " 3.6602500e+05 1.3800000e+06 7.9800000e+05 6.2350000e+05 2.9245000e+05\n",
      " 5.8200000e+05 5.4900000e+05 4.1423300e+05 2.7800000e+05 3.6700000e+05\n",
      " 3.8158800e+05 1.6900000e+06 3.2990000e+05 9.0000000e+04 7.1500000e+05\n",
      " 7.0590000e+05 2.7645000e+06 1.1799000e+06 2.0977350e+06 4.1900000e+05\n",
      " 7.6200000e+05 5.4522700e+05 1.2750000e+06 4.3402900e+05 4.3977000e+05\n",
      " 6.1900000e+05 6.2034000e+05 1.2700000e+06 3.2300000e+05 8.6300000e+05\n",
      " 9.4800000e+05 4.7100000e+05 6.4999900e+05 6.8999900e+05 1.1698000e+06\n",
      " 1.5900000e+06 2.9391000e+05 2.4750000e+05 9.7990000e+05 2.1900000e+05\n",
      " 7.4999000e+05 4.2200000e+05 9.1990000e+05 8.7573500e+05 6.0000000e+06\n",
      " 3.6030000e+05 5.2700000e+05 2.4100000e+05 1.3700000e+06 1.2990000e+06\n",
      " 3.2900000e+05 1.4500000e+05 1.1390000e+06 4.3112400e+05 1.2249250e+06\n",
      " 1.1300000e+06 4.9037000e+05 1.5600000e+06 1.0200000e+06 3.0900000e+05\n",
      " 5.2600000e+05 8.2200000e+05 1.2150000e+06 2.6200000e+05 6.1900000e+06\n",
      " 1.4700000e+05 8.3500000e+05 7.8700000e+05 5.1800000e+05 6.4942700e+05\n",
      " 7.5000000e+02 3.0800000e+05 2.5600000e+05 5.4400000e+05 3.3400000e+05\n",
      " 2.4800000e+06 2.1990000e+05 1.0930000e+06 4.6740000e+05 1.3600000e+06\n",
      " 7.7800000e+05 1.2088240e+06 5.4671300e+05 3.4000000e+08 6.9450000e+05\n",
      " 4.6623300e+05 4.9888800e+05 6.2500000e+05 6.7500000e+05 9.2100000e+05\n",
      " 1.9700000e+05 4.6107800e+05 1.9684000e+05 7.2300000e+05 1.0900000e+06\n",
      " 3.1560000e+05 5.5300000e+05 1.2250000e+06 9.1873600e+05 4.2162200e+05\n",
      " 5.4441600e+05 3.9300000e+05 6.0500000e+05 9.6500000e+05 1.7110000e+06\n",
      " 4.0700000e+05 9.8000000e+04 4.6600000e+05 3.4389300e+05 8.2077700e+05\n",
      " 1.5400000e+05 6.7600000e+05 7.9900000e+05 3.3000000e+06 3.2190000e+06\n",
      " 1.4200000e+06 3.4550000e+05 4.0300000e+05 1.5400000e+06 2.7150000e+05\n",
      " 3.4510000e+06 3.6783000e+05 4.3200000e+05 3.2860000e+05 1.8900000e+06\n",
      " 1.0550000e+06 7.9600000e+05 4.4700000e+05 8.8500000e+05 1.2240000e+06\n",
      " 2.0900000e+06 8.6800000e+05 8.1910700e+05 3.4876900e+05 9.3100000e+05\n",
      " 3.8800000e+05 2.5800000e+05 2.5200000e+05 5.7703500e+05] \n",
      "\n"
     ]
    }
   ],
   "source": [
    "for v in dados:\n",
    "    print(\"\\n%15s: \" %v, \"%4d categorias\" % len(dados[v].unique() ) )\n",
    "    print(dados[v].unique(), \"\\n\")\n",
    "\n",
    "# variaveis string: tipo (4), bairro (66), tipo_vendedor (2), diferenciais (83)"
   ]
  },
  {
   "cell_type": "markdown",
   "id": "9da106cf-d0c0-4d8c-a03e-7dba876b656a",
   "metadata": {},
   "source": [
    "Verificar a quantidade de amostras de cada classe"
   ]
  },
  {
   "cell_type": "code",
   "execution_count": 4,
   "id": "b124f3aa-6bcb-4529-8be2-e41864f9d400",
   "metadata": {},
   "outputs": [
    {
     "name": "stdout",
     "output_type": "stream",
     "text": [
      "tipo_vendedor\n",
      "Imobiliaria      4556\n",
      "Pessoa Fisica     127\n",
      "Name: count, dtype: int64\n",
      "tipo\n",
      "Apartamento    4501\n",
      "Casa            177\n",
      "Loft              3\n",
      "Quitinete         2\n",
      "Name: count, dtype: int64\n",
      "bairro\n",
      "Boa Viagem         1599\n",
      "Madalena            327\n",
      "Torre               240\n",
      "Casa Amarela        225\n",
      "Espinheiro          208\n",
      "                   ... \n",
      "Ponto de Parada       1\n",
      "Centro                1\n",
      "Sto Antonio           1\n",
      "Coelhos               1\n",
      "Cohab                 1\n",
      "Name: count, Length: 66, dtype: int64\n",
      "diferenciais\n",
      "piscina e churrasqueira                    1340\n",
      "nenhum                                      986\n",
      "piscina e sauna                             350\n",
      "piscina e playground                        338\n",
      "salao de festas                             187\n",
      "                                           ... \n",
      "children care                                 1\n",
      "sauna e quadra poliesportiva                  1\n",
      "piscina e quadra de squash                    1\n",
      "esquina e quadra poliesportiva                1\n",
      "campo de futebol e quadra poliesportiva       1\n",
      "Name: count, Length: 83, dtype: int64\n"
     ]
    }
   ],
   "source": [
    "print(dados[\"tipo_vendedor\"].value_counts())\n",
    "print(dados[\"tipo\"].value_counts())\n",
    "print(dados[\"bairro\"].value_counts())\n",
    "print(dados[\"diferenciais\"].value_counts())"
   ]
  },
  {
   "cell_type": "markdown",
   "id": "3b718994-2e78-4a89-bed7-5d806ab55e83",
   "metadata": {},
   "source": [
    "Separando os bairros em 3 classes distintas para não haver tantos parâmetros para confundir o modelo. Além disso, tem muitos barros com apenas uma casa."
   ]
  },
  {
   "cell_type": "code",
   "execution_count": 5,
   "id": "2ec00adc-d16c-47d0-81e0-d1fa485f0522",
   "metadata": {},
   "outputs": [],
   "source": [
    "bairros = {  'Aflitos': 'classe_baixa',\n",
    "             'Afogados':'classe_baixa',\n",
    "             'Agua Fria':'classe_baixa',\n",
    "             'Apipucos':'classe_media',\n",
    "             'Areias':'classe_media',\n",
    "             'Arruda':'classe_media',\n",
    "             'Barro':'classe_baixa',\n",
    "             'Beberibe':'classe_baixa',\n",
    "             'Beira Rio':'classe_baixa',\n",
    "             'Benfica':'classe_baixa',\n",
    "             'Boa Viagem':'classe_alta',\n",
    "             'Boa Vista':'classe_media',\n",
    "             'Bongi':'classe_media',\n",
    "             'Cajueiro':'classe_media',\n",
    "             'Campo Grande':'classe_media',\n",
    "             'Casa Amarela':'classe_media',\n",
    "             'Casa Forte':'classe_alta',\n",
    "             'Caxanga':'classe_media',\n",
    "             'Centro':'classe_media',\n",
    "             'Cid Universitaria':'classe_media',\n",
    "             'Coelhos':'classe_baixa',\n",
    "             'Cohab':'classe_baixa',\n",
    "             'Cordeiro':'classe_media',\n",
    "             'Derby':'classe_media',\n",
    "             'Dois Irmaos':'classe_media',\n",
    "             'Encruzilhada':'classe_media',\n",
    "             'Engenho do Meio':'classe_media',\n",
    "             'Espinheiro':'classe_alta',\n",
    "             'Estancia':'classe_baixa',\n",
    "             'Fundao':'classe_baixa',\n",
    "             'Gracas':'classe_alta',\n",
    "             'Guabiraba':'classe_baixa',\n",
    "             'Hipodromo':'classe_baixa',\n",
    "             'Ilha do Leite':'classe_media',\n",
    "             'Ilha do Retiro':'classe_alta',\n",
    "             'Imbiribeira':'classe_media',\n",
    "             'Ipsep':'classe_media',\n",
    "             'Ibura': 'classe_baixa',\n",
    "             'Iputinga':'classe_media',\n",
    "             'Jaqueira':'classe_alta',\n",
    "             'Jd S Paulo':'classe_media',\n",
    "             'Lagoa do Araca':'classe_media',\n",
    "             'Macaxeira':'classe_baixa',\n",
    "             'Madalena':'classe_alta',\n",
    "             'Monteiro':'classe_media',\n",
    "             'Paissandu':'classe_alta',\n",
    "             'Parnamirim':'classe_media',\n",
    "             'Piedade':'classe_baixa',\n",
    "             'Pina':'classe_media',\n",
    "             'Poco':'classe_baixa',\n",
    "             'Poco da Panela':'classe_media',\n",
    "             'Ponto de Parada':'classe_baixa',\n",
    "             'Prado':'classe_media',\n",
    "             'Recife':'classe_media',\n",
    "             'Rosarinho':'classe_media',\n",
    "             'S Jose':'classe_alta',\n",
    "             'San Martin':'classe_media',\n",
    "             'Sancho':'classe_media',\n",
    "             'Santana':'classe_media',\n",
    "             'Setubal':'classe_alta',\n",
    "             'Soledade':'classe_media',\n",
    "             'Sto Amaro':'classe_media',\n",
    "             'Sto Antonio':'classe_media',\n",
    "             'Tamarineira':'classe_alta',\n",
    "             'Tejipio':'classe_media',\n",
    "             'Torre':'classe_media',\n",
    "             'Torreao':'classe_media',\n",
    "             'Varzea':'classe_media',\n",
    "             'Zumbi':'classe_baixa'\n",
    " }"
   ]
  },
  {
   "cell_type": "markdown",
   "id": "8b55c618-f7ef-4008-8ddd-6670fddde49a",
   "metadata": {},
   "source": [
    "Fazer o one hot encoding e a binarização das variáveis. Ademais, estou retirando a coluna de diferenciais porque ela tem muitos valores distintos e pode confundir o modelo."
   ]
  },
  {
   "cell_type": "code",
   "execution_count": 6,
   "id": "3f79ec44-46eb-4ded-8e7a-275837966277",
   "metadata": {},
   "outputs": [],
   "source": [
    "dados = dados.drop(columns=\"diferenciais\")\n",
    "dados = dados.replace(bairros)\n",
    "\n",
    "dados_teste = dados_teste.drop(columns=\"diferenciais\")\n",
    "dados_teste = dados_teste.replace(bairros)\n",
    "\n",
    "dados = pd.get_dummies(dados, columns = [\"tipo\",\n",
    "                                         \"bairro\",\n",
    "                                         #\"diferenciais\"\n",
    "                                        ])\n",
    "\n",
    "dados_teste = pd.get_dummies(dados_teste, columns = [\"tipo\",\n",
    "                                                     \"bairro\",\n",
    "                                                     #\"diferenciais\"\n",
    "                                                    ])\n",
    "\n",
    "binarizador = LabelBinarizer()\n",
    "\n",
    "for v in [\"tipo_vendedor\"]:\n",
    "    dados[v] = binarizador.fit_transform(dados[v])\n",
    "    dados_teste[v] = binarizador.fit_transform(dados_teste[v])"
   ]
  },
  {
   "cell_type": "markdown",
   "id": "1a8546c5-0a4d-42d4-968e-c492fb5dc227",
   "metadata": {},
   "source": [
    "Verificar a correlação de pearson entre os parâmetros e o alvo (obs: os parâmetros não parecem muito promissores, mas veremos mais na hora de treinar o modelo):"
   ]
  },
  {
   "cell_type": "code",
   "execution_count": 7,
   "id": "23766e8d-8b47-4705-b714-6af2c320f0a1",
   "metadata": {},
   "outputs": [
    {
     "name": "stdout",
     "output_type": "stream",
     "text": [
      "Id -0.009642760756471807 0.5094355152393747\n",
      "tipo_vendedor 0.12404728376340508 1.602213293941475e-17\n",
      "quartos 0.020891610901120412 0.15287826107079835\n",
      "suites 0.042130923648528294 0.0039311672431164985\n",
      "vagas 0.029045578480214673 0.04686162008668862\n",
      "area_util 0.02755707374185922 0.05934177388280898\n",
      "area_extra 0.0011409571229646191 0.9377821777424706\n",
      "churrasqueira 0.0158778131407028 0.2773303474775181\n",
      "estacionamento -0.006366696356950981 0.6631438609162197\n",
      "piscina 0.006808599466643847 0.6413514005318313\n",
      "playground -0.012199105773287379 0.40393008010921216\n",
      "quadra -0.004385607310944087 0.7641472772880071\n",
      "s_festas 0.007544913686948061 0.6057242074163695\n",
      "s_jogos -0.0025392812929621194 0.8620830607589952\n",
      "s_ginastica -0.002295169564616567 0.8752272334126338\n",
      "sauna 0.0011677995933596546 0.9363214991801263\n",
      "vista_mar 0.0076576085351784725 0.6003503976654001\n",
      "preco 0.9999999999999997 0.0\n",
      "tipo_Apartamento -0.008536769452282827 0.5591888774445708\n",
      "tipo_Casa 0.00900223160404917 0.5379652923350523\n",
      "tipo_Loft -0.0014204743447900727 0.9225829450478151\n",
      "tipo_Quitinete -0.0014958318910405144 0.9184898468859188\n",
      "bairro_classe_alta 0.01326774610885857 0.36401458969076655\n",
      "bairro_classe_baixa -0.00434590795136535 0.7662198223236355\n",
      "bairro_classe_media -0.011961896900640983 0.41313302018156106\n"
     ]
    }
   ],
   "source": [
    "pearson = dados.columns\n",
    "for p in pearson:\n",
    "  print(p, pearsonr(dados[p],dados['preco'])[0], pearsonr(dados[p],dados['preco'])[1])"
   ]
  },
  {
   "cell_type": "markdown",
   "id": "5439c999-67c7-47dd-be53-5d4bfc70eecb",
   "metadata": {},
   "source": [
    "Retirando todos os valores que estão atrapalhando o modelo por estarem muito longe do esperado"
   ]
  },
  {
   "cell_type": "code",
   "execution_count": 8,
   "id": "f428998e-5802-42fc-9b39-14cbf16f9f26",
   "metadata": {},
   "outputs": [],
   "source": [
    "dados = dados[(dados['preco']>= 50000) & (dados['preco']<= 5000000)]"
   ]
  },
  {
   "cell_type": "markdown",
   "id": "39048fba-4da6-4538-a45b-dc12e527042c",
   "metadata": {},
   "source": [
    "Separação entre treino e teste"
   ]
  },
  {
   "cell_type": "code",
   "execution_count": 9,
   "id": "bd0853cf-9648-4499-8405-82d981204b5e",
   "metadata": {},
   "outputs": [],
   "source": [
    "id = dados.loc[:, dados.columns == \"Id\"].to_numpy()\n",
    "dados = dados.drop(columns=\"Id\")\n",
    "dados = dados.drop(columns=\"tipo_Quitinete\")\n",
    "\n",
    "id_teste = dados_teste.loc[:, dados_teste.columns == \"Id\"].to_numpy()\n",
    "dados_teste = dados_teste.drop(columns=\"Id\")\n",
    "\n",
    "dados_embaralhados = dados.sample(frac=1, random_state=0)\n",
    "x = dados_embaralhados.loc[:, dados.columns != \"preco\"].to_numpy()\n",
    "y = dados_embaralhados.loc[:, dados.columns == \"preco\"].to_numpy()\n",
    "\n",
    "x_treino, x_teste, y_treino, y_teste = train_test_split(\n",
    "    x,\n",
    "    y,\n",
    "    train_size = 0.80\n",
    ")\n",
    "\n",
    "y_treino = y_treino.ravel()\n",
    "\n",
    "escala = MinMaxScaler()\n",
    "escala.fit(x_treino)\n",
    "\n",
    "x_treino = escala.transform(x_treino)\n",
    "x_teste  = escala.transform(x_teste)"
   ]
  },
  {
   "cell_type": "markdown",
   "id": "8e590b3b-9b36-4bc1-b919-2fd6dd29eaf7",
   "metadata": {},
   "source": [
    "### Random Forest"
   ]
  },
  {
   "cell_type": "code",
   "execution_count": 10,
   "id": "0b23510e-27c4-4433-a815-460f7c970b6b",
   "metadata": {},
   "outputs": [
    {
     "name": "stdout",
     "output_type": "stream",
     "text": [
      "   rmse         325294.2194\n"
     ]
    }
   ],
   "source": [
    "modelo = RandomForestRegressor(bootstrap=True, max_depth=2, min_samples_split=6,\\\n",
    "                               min_samples_leaf=2, n_estimators=210,random_state=5)\n",
    "\n",
    "modelo = modelo.fit(x_treino,y_treino)\n",
    "\n",
    "y_resposta_treino = modelo.predict(x_treino)\n",
    "y_resposta_teste  = modelo.predict(x_teste)\n",
    "\n",
    "mse  = mean_squared_error(y_treino, y_resposta_treino)\n",
    "rmse = math.sqrt(mse)\n",
    "\n",
    "print(\"%7s   %17.4f\" % (\"rmse\" , rmse ))\n",
    "\n",
    "x_arq_teste = dados_teste.loc[:, dados_teste.columns != \"preco\"].to_numpy()\n",
    "\n",
    "y_pred_arq_teste = modelo.predict(x_arq_teste)"
   ]
  },
  {
   "cell_type": "markdown",
   "id": "fb8869ad-f6f2-411b-b82d-3354517893cb",
   "metadata": {},
   "source": [
    "Inserindo as respostas num arquivo csv"
   ]
  },
  {
   "cell_type": "code",
   "execution_count": 11,
   "id": "fe6d2f0c-244c-4ea2-bccc-43eaa0f80a30",
   "metadata": {},
   "outputs": [],
   "source": [
    "# arquivo_respostas = pd.read_csv('conjunto_de_teste.csv')\n",
    "# resposta = pd.DataFrame({'Id': id_teste.ravel(),\n",
    "#                          'preco':np.squeeze(np.int16(y_pred_arq_teste))})\n",
    "# resposta.to_csv(\"resposta.csv\",index=False)"
   ]
  },
  {
   "cell_type": "markdown",
   "id": "721f145c-fd3e-4dc0-a169-a185248aad36",
   "metadata": {},
   "source": [
    "### Regressor Linear"
   ]
  },
  {
   "cell_type": "code",
   "execution_count": 12,
   "id": "a408fba2-4a2c-4d95-be5e-2c477039db3a",
   "metadata": {},
   "outputs": [
    {
     "name": "stdout",
     "output_type": "stream",
     "text": [
      "\n",
      "REGRESSOR LINEAR:\n",
      "\n",
      "Métrica   DENTRO da amostra   FORA da amostra\n",
      "-------   -----------------   ---------------\n",
      "RMSE = 342671.8064\n"
     ]
    }
   ],
   "source": [
    "print('')\n",
    "print(\"REGRESSOR LINEAR:\")\n",
    "print('')\n",
    "\n",
    "print(\"Métrica   DENTRO da amostra   FORA da amostra\")\n",
    "print(\"-------   -----------------   ---------------\")\n",
    "\n",
    "regressor_linear = LinearRegression()\n",
    "\n",
    "regressor_linear = regressor_linear.fit(x_treino, y_treino)\n",
    "\n",
    "y_pred = cross_val_predict(regressor_linear, x_treino, y_treino, cv=5)\n",
    "\n",
    "# y_resposta_treino = regressor_linear.predict(x_treino)\n",
    "# y_resposta_teste  = regressor_linear.predict(x_teste)\n",
    "\n",
    "# mse_in  = mean_squared_error(y_treino, y_resposta_treino)\n",
    "# rmse_in = math.sqrt(mse_in)\n",
    "# r2_in   = r2_score(y_treino, y_resposta_treino)\n",
    "# #rmspe_in = (np.sqrt(np.mean(np.square((y_true - y_pred) / y_true)))) * 100\n",
    "\n",
    "# mse_out  = mean_squared_error(y_teste, y_resposta_teste)\n",
    "# rmse_out = math.sqrt(mse_out)\n",
    "# r2_out   = r2_score(y_teste, y_resposta_teste)\n",
    "# #rmspe_out = (np.sqrt(np.mean(np.square((y_true - y_pred) / y_true)))) * 100\n",
    "\n",
    "# print(\"%7s   %17.4f   %15.4f\" % (\"mse\"  , mse_in  , mse_out))\n",
    "# print(\"%7s   %17.4f   %15.4f\" % (\"rmse\" , rmse_in , rmse_out))\n",
    "# print(\"%7s   %17.4f   %15.4f\" % (\"r2\"   , r2_in   , r2_out))\n",
    "\n",
    "#plt.scatter(x = y_teste, y = y_resposta_teste)\n",
    "\n",
    "# fig=plt.figure()\n",
    "# ax=fig.add_axes([0,0,1,1])\n",
    "# ax.scatter(y_teste, y_resposta_teste, color='b', alpha=0.5)\n",
    "# ax.set_ylim(-1000000,10000000)\n",
    "# ax.set_xlim(-1000000,10000000)\n",
    "# plt.show()\n",
    "\n",
    "print(\"RMSE = %10.4f\" % math.sqrt(mean_squared_error(y_treino,y_pred)))"
   ]
  },
  {
   "cell_type": "markdown",
   "id": "ca0415ab-eb80-4b5e-a88c-e347f73ad114",
   "metadata": {},
   "source": [
    "### Regressor KNN"
   ]
  },
  {
   "cell_type": "code",
   "execution_count": 13,
   "id": "4a708bb9-7a1d-405b-bf10-8cea656e5651",
   "metadata": {},
   "outputs": [
    {
     "name": "stdout",
     "output_type": "stream",
     "text": [
      "\n",
      " REGRESSOR KNN:\n",
      "\n",
      " K   DENTRO da amostra   FORA da amostra\n",
      "---   ----------------   ---------------\n",
      "   1          66484.4847       398308.4445\n",
      "   2         176468.8319       340722.8685\n",
      "   3         220797.9153       320039.1973\n",
      "   4         244731.0356       319118.7382\n",
      "   5         257835.3783       318613.5865\n",
      "   6         269741.8248       314080.1969\n",
      "   7         277373.1856       320069.9927\n",
      "   8         286375.6575       322672.4986\n",
      "   9         291149.0142       324069.6374\n",
      "  10         294983.4110       323170.0279\n",
      "  11         297846.1705       324983.8515\n",
      "  12         303382.1840       324551.7999\n",
      "  13         305849.4395       326126.3542\n",
      "  14         307726.3861       326494.8983\n",
      "  15         310605.7367       328003.8062\n",
      "  16         312788.0508       329476.2991\n",
      "  17         315788.8558       330924.7395\n",
      "  18         318301.4416       332836.6947\n",
      "  19         320423.9052       334511.8115\n",
      "  20         322012.0315       335376.7230\n",
      "  21         324871.0475       337194.9669\n",
      "  22         327601.7007       337618.8511\n",
      "  23         329324.2559       339230.1155\n",
      "  24         331467.4593       340632.5531\n",
      "  25         333639.9316       340525.2698\n",
      "  26         336658.3677       342007.1115\n",
      "  27         339131.0210       341760.4036\n",
      "  28         340993.9282       341432.4821\n",
      "  29         342364.2210       341377.2074\n",
      "  30         344375.4506       341911.7645\n",
      "  31         346100.1200       342219.0069\n",
      "  32         347680.8293       343507.6208\n",
      "  33         349150.2542       344276.1012\n",
      "  34         350806.4448       345766.3960\n",
      "  35         352473.8443       347204.9771\n",
      "  36         353921.3066       348314.8788\n",
      "  37         355175.5087       348922.1318\n",
      "  38         356144.1046       349068.8002\n",
      "  39         357072.3310       349282.4245\n",
      "  40         357878.6648       349282.9522\n",
      "  41         358926.9316       350472.8075\n",
      "  42         359919.5101       350597.6862\n",
      "  43         360914.7692       351593.0090\n",
      "  44         361380.4261       351912.6286\n",
      "  45         362150.8824       351841.4447\n",
      "  46         362515.0636       352369.3955\n",
      "  47         363036.3126       352903.1085\n",
      "  48         363457.2495       352672.5511\n",
      "  49         364065.0857       353337.4321\n"
     ]
    }
   ],
   "source": [
    "print('')\n",
    "print(\" REGRESSOR KNN:\")\n",
    "print('')\n",
    "\n",
    "print(\" K   DENTRO da amostra   FORA da amostra\")\n",
    "print(\"---   ----------------   ---------------\")\n",
    "\n",
    "for k in range (1,50):\n",
    "    \n",
    "    regressor_knn   = KNeighborsRegressor(\n",
    "        n_neighbors = k,\n",
    "        weights     = \"uniform\"      # uniform ou distance\n",
    "    )\n",
    "    \n",
    "    regressor_knn = regressor_knn.fit(x_treino, y_treino)\n",
    "\n",
    "    y_resposta_treino = regressor_knn.predict(x_treino)\n",
    "    y_resposta_teste  = regressor_knn.predict(x_teste)\n",
    "\n",
    "    mse_in  = mean_squared_error(y_treino, y_resposta_treino)\n",
    "    rmse_in = math.sqrt(mse_in)\n",
    "    \n",
    "    mse_out  = mean_squared_error(y_teste, y_resposta_teste)\n",
    "    rmse_out = math.sqrt(mse_out)\n",
    "    \n",
    "    print(\" %3d   %17.4f   %15.4f\" % (k , rmse_in , rmse_out))"
   ]
  },
  {
   "cell_type": "markdown",
   "id": "34ab82c1-673f-4aba-82f9-cb62aebdf3bf",
   "metadata": {},
   "source": [
    "### Regressor Polinomial"
   ]
  },
  {
   "cell_type": "markdown",
   "id": "77313275-aea4-487b-ab79-aced75fa1517",
   "metadata": {},
   "source": [
    "É possível observar que o melhor valor para o degree é 1"
   ]
  },
  {
   "cell_type": "code",
   "execution_count": 14,
   "id": "e813de0a-dd6a-4599-9812-80f5af3e5fc6",
   "metadata": {},
   "outputs": [
    {
     "name": "stdout",
     "output_type": "stream",
     "text": [
      "\n",
      " REGRESSOR POLINOMIAL:\n",
      "\n",
      " K   DENTRO da amostra   FORA da amostra\n",
      "---   ----------------   ---------------\n",
      "   1         328607.9948       342931.4986\n",
      "   2         249018.2827   43951755752703144.0000\n",
      "   3         186079.4642   4561776578465699.0000\n"
     ]
    }
   ],
   "source": [
    "print('')\n",
    "print(\" REGRESSOR POLINOMIAL:\")\n",
    "print('')\n",
    "\n",
    "print(\" K   DENTRO da amostra   FORA da amostra\")\n",
    "print(\"---   ----------------   ---------------\")\n",
    "\n",
    "for k in range (1,4):\n",
    "\n",
    "    pf = PolynomialFeatures(degree = k)\n",
    "\n",
    "    pf = pf.fit(x_treino)\n",
    "\n",
    "    x_treino_poly = pf.transform(x_treino)\n",
    "    x_teste_poly  = pf.transform(x_teste)\n",
    "    \n",
    "    regressor_linear = LinearRegression()\n",
    "\n",
    "    regressor_linear = regressor_linear.fit(x_treino_poly, y_treino)\n",
    "\n",
    "    y_resposta_treino = regressor_linear.predict(x_treino_poly)\n",
    "    y_resposta_teste  = regressor_linear.predict(x_teste_poly)\n",
    "\n",
    "    mse_in  = mean_squared_error(y_treino, y_resposta_treino)\n",
    "    rmse_in = math.sqrt(mse_in)\n",
    "    \n",
    "    mse_out  = mean_squared_error(y_teste, y_resposta_teste)\n",
    "    rmse_out = math.sqrt(mse_out)\n",
    "    \n",
    "    print(\" %3d   %17.4f   %15.4f\" % (k , rmse_in , rmse_out))"
   ]
  },
  {
   "cell_type": "markdown",
   "id": "2d06890b-42ca-477a-9ff5-eac83804047e",
   "metadata": {},
   "source": [
    "### Regressão Polinomial com Regularização Ridge"
   ]
  },
  {
   "cell_type": "markdown",
   "id": "ff29caf3-2c08-408d-ba56-41ef2cc6d900",
   "metadata": {},
   "source": [
    "É possível observar que o melhor valor para o grau é 2"
   ]
  },
  {
   "cell_type": "code",
   "execution_count": 15,
   "id": "1a637117-638d-450a-b59e-70b9f9144460",
   "metadata": {},
   "outputs": [
    {
     "name": "stdout",
     "output_type": "stream",
     "text": [
      "\n",
      " REGRESSOR POLINOMIAL COM REGULARIZAÇÃO RIDGE (L2):\n",
      "\n",
      " K   DENTRO da amostra   FORA da amostra\n",
      "---   ----------------   ---------------\n",
      "   1     1         329119.0880       338969.1612\n",
      "   1     2         330187.0648       336598.5503\n",
      "   1     3         331480.2275       335186.1799\n",
      "   1     4         332844.3894       334368.7937\n",
      "   1     5         334204.8629       333931.0975\n",
      "   1     6         335526.3719       333741.5138\n",
      "   2     1         277918.2624       302353.4792\n",
      "   2     2         286364.0379       312327.0890\n",
      "   2     3         291214.3107       316966.4694\n",
      "   2     4         294616.2400       319603.8641\n",
      "   2     5         297256.8250       321281.5677\n",
      "   2     6         299433.3533       322432.1613\n"
     ]
    },
    {
     "name": "stderr",
     "output_type": "stream",
     "text": [
      "C:\\Users\\andre\\anaconda3\\Lib\\site-packages\\sklearn\\utils\\extmath.py:189: RuntimeWarning: invalid value encountered in matmul\n",
      "  ret = a @ b\n"
     ]
    },
    {
     "name": "stdout",
     "output_type": "stream",
     "text": [
      "   3     1         251671.5816       280471.6792\n"
     ]
    },
    {
     "name": "stderr",
     "output_type": "stream",
     "text": [
      "C:\\Users\\andre\\anaconda3\\Lib\\site-packages\\sklearn\\utils\\extmath.py:189: RuntimeWarning: invalid value encountered in matmul\n",
      "  ret = a @ b\n"
     ]
    },
    {
     "name": "stdout",
     "output_type": "stream",
     "text": [
      "   3     2         262166.9361       287596.6397\n"
     ]
    },
    {
     "name": "stderr",
     "output_type": "stream",
     "text": [
      "C:\\Users\\andre\\anaconda3\\Lib\\site-packages\\sklearn\\utils\\extmath.py:189: RuntimeWarning: invalid value encountered in matmul\n",
      "  ret = a @ b\n"
     ]
    },
    {
     "name": "stdout",
     "output_type": "stream",
     "text": [
      "   3     3         268738.6073       293342.5376\n"
     ]
    },
    {
     "name": "stderr",
     "output_type": "stream",
     "text": [
      "C:\\Users\\andre\\anaconda3\\Lib\\site-packages\\sklearn\\utils\\extmath.py:189: RuntimeWarning: invalid value encountered in matmul\n",
      "  ret = a @ b\n"
     ]
    },
    {
     "name": "stdout",
     "output_type": "stream",
     "text": [
      "   3     4         273456.5658       297671.6361\n"
     ]
    },
    {
     "name": "stderr",
     "output_type": "stream",
     "text": [
      "C:\\Users\\andre\\anaconda3\\Lib\\site-packages\\sklearn\\utils\\extmath.py:189: RuntimeWarning: invalid value encountered in matmul\n",
      "  ret = a @ b\n"
     ]
    },
    {
     "name": "stdout",
     "output_type": "stream",
     "text": [
      "   3     5         277096.8150       301007.6309\n"
     ]
    },
    {
     "name": "stderr",
     "output_type": "stream",
     "text": [
      "C:\\Users\\andre\\anaconda3\\Lib\\site-packages\\sklearn\\utils\\extmath.py:189: RuntimeWarning: invalid value encountered in matmul\n",
      "  ret = a @ b\n"
     ]
    },
    {
     "name": "stdout",
     "output_type": "stream",
     "text": [
      "   3     6         280039.5961       303649.1770\n"
     ]
    },
    {
     "name": "stderr",
     "output_type": "stream",
     "text": [
      "C:\\Users\\andre\\anaconda3\\Lib\\site-packages\\sklearn\\utils\\extmath.py:189: RuntimeWarning: invalid value encountered in matmul\n",
      "  ret = a @ b\n"
     ]
    },
    {
     "name": "stdout",
     "output_type": "stream",
     "text": [
      "   4     1         234961.0548       277736.5342\n"
     ]
    },
    {
     "name": "stderr",
     "output_type": "stream",
     "text": [
      "C:\\Users\\andre\\anaconda3\\Lib\\site-packages\\sklearn\\utils\\extmath.py:189: RuntimeWarning: invalid value encountered in matmul\n",
      "  ret = a @ b\n"
     ]
    },
    {
     "name": "stdout",
     "output_type": "stream",
     "text": [
      "   4     2         244067.6777       278895.1214\n"
     ]
    },
    {
     "name": "stderr",
     "output_type": "stream",
     "text": [
      "C:\\Users\\andre\\anaconda3\\Lib\\site-packages\\sklearn\\utils\\extmath.py:189: RuntimeWarning: invalid value encountered in matmul\n",
      "  ret = a @ b\n"
     ]
    },
    {
     "name": "stdout",
     "output_type": "stream",
     "text": [
      "   4     3         250370.1784       281691.8526\n"
     ]
    },
    {
     "name": "stderr",
     "output_type": "stream",
     "text": [
      "C:\\Users\\andre\\anaconda3\\Lib\\site-packages\\sklearn\\utils\\extmath.py:189: RuntimeWarning: invalid value encountered in matmul\n",
      "  ret = a @ b\n"
     ]
    },
    {
     "name": "stdout",
     "output_type": "stream",
     "text": [
      "   4     4         255205.7860       284552.6826\n"
     ]
    },
    {
     "name": "stderr",
     "output_type": "stream",
     "text": [
      "C:\\Users\\andre\\anaconda3\\Lib\\site-packages\\sklearn\\utils\\extmath.py:189: RuntimeWarning: invalid value encountered in matmul\n",
      "  ret = a @ b\n"
     ]
    },
    {
     "name": "stdout",
     "output_type": "stream",
     "text": [
      "   4     5         259113.3839       287167.9312\n"
     ]
    },
    {
     "name": "stderr",
     "output_type": "stream",
     "text": [
      "C:\\Users\\andre\\anaconda3\\Lib\\site-packages\\sklearn\\utils\\extmath.py:189: RuntimeWarning: invalid value encountered in matmul\n",
      "  ret = a @ b\n"
     ]
    },
    {
     "name": "stdout",
     "output_type": "stream",
     "text": [
      "   4     6         262378.1212       289496.2399\n"
     ]
    },
    {
     "name": "stderr",
     "output_type": "stream",
     "text": [
      "C:\\Users\\andre\\anaconda3\\Lib\\site-packages\\sklearn\\utils\\extmath.py:189: RuntimeWarning: invalid value encountered in matmul\n",
      "  ret = a @ b\n"
     ]
    }
   ],
   "source": [
    "print('')\n",
    "print(\" REGRESSOR POLINOMIAL COM REGULARIZAÇÃO RIDGE (L2):\")\n",
    "print('')\n",
    "\n",
    "print(\" K   DENTRO da amostra   FORA da amostra\")\n",
    "print(\"---   ----------------   ---------------\")\n",
    "\n",
    "for k in range (1,5):\n",
    "\n",
    "    pf = PolynomialFeatures(degree = k)\n",
    "\n",
    "    pf = pf.fit(x_treino)\n",
    "\n",
    "    x_treino_poly = pf.transform(x_treino)\n",
    "    x_teste_poly  = pf.transform(x_teste)\n",
    "\n",
    "    for j in range (1,7):\n",
    "\n",
    "        a = pow(10,j)\n",
    "        regressor_ridge = Ridge(alpha = j)   # mudar o alpha para melhorar o modelo\n",
    "    \n",
    "        regressor_ridge = regressor_ridge.fit(x_treino_poly, y_treino)\n",
    "    \n",
    "        y_resposta_treino = regressor_ridge.predict(x_treino_poly)\n",
    "        y_resposta_teste  = regressor_ridge.predict(x_teste_poly)\n",
    "    \n",
    "        mse_in  = mean_squared_error(y_treino, y_resposta_treino)\n",
    "        rmse_in = math.sqrt(mse_in)\n",
    "        \n",
    "        mse_out  = mean_squared_error(y_teste, y_resposta_teste)\n",
    "        rmse_out = math.sqrt(mse_out)\n",
    "    \n",
    "        print(\" %3d   %3d   %17.4f   %15.4f\" % (k , j, rmse_in , rmse_out))\n",
    "\n",
    "pf = PolynomialFeatures(degree = 4)\n",
    "\n",
    "pf = pf.fit(x_treino)\n",
    "\n",
    "x_treino_poly = pf.transform(x_treino)\n",
    "x_teste_poly  = pf.transform(x_teste)\n",
    "\n",
    "regressor_ridge = Ridge(alpha = 10.0)   # mudar o alpha para melhorar o modelo\n",
    "\n",
    "regressor_ridge = regressor_ridge.fit(x_treino_poly, y_treino)\n",
    "\n",
    "x_arq_teste = dados_teste.loc[:, dados_teste.columns != \"preco\"].to_numpy()\n",
    "\n",
    "x_poly_arq_teste = pf.transform(x_arq_teste)\n",
    "\n",
    "y_pred_arq_teste = regressor_ridge.predict(x_poly_arq_teste)"
   ]
  },
  {
   "cell_type": "markdown",
   "id": "c27c24db-8a5c-4be9-b3db-fc1689f410f5",
   "metadata": {},
   "source": [
    "Inserindo as respostas num arquivo csv"
   ]
  },
  {
   "cell_type": "code",
   "execution_count": 16,
   "id": "58ab1e04-d765-4b73-987e-88d741c65b7e",
   "metadata": {},
   "outputs": [
    {
     "name": "stderr",
     "output_type": "stream",
     "text": [
      "C:\\Users\\andre\\AppData\\Local\\Temp\\ipykernel_8424\\3792132305.py:3: RuntimeWarning: invalid value encountered in cast\n",
      "  'preco':np.squeeze(np.int16(y_pred_arq_teste))})\n"
     ]
    }
   ],
   "source": [
    "arquivo_respostas = pd.read_csv('conjunto_de_teste.csv')\n",
    "resposta = pd.DataFrame({'Id': id_teste.ravel(),\n",
    "                         'preco':np.squeeze(np.int16(y_pred_arq_teste))})\n",
    "resposta.to_csv(\"resposta.csv\",index=False)"
   ]
  },
  {
   "cell_type": "markdown",
   "id": "58767460-d59c-47b9-a1f3-23d1a82aa5ff",
   "metadata": {},
   "source": [
    "### Regressão Polinomial com Regularização Lasso"
   ]
  },
  {
   "cell_type": "markdown",
   "id": "536f3aed-d9ca-4cca-be77-2a4e66d400a5",
   "metadata": {},
   "source": [
    "É possível observar que, após o grau aumente além de 2 ou 3, o modelo começa a ficar ruim. Logo, por motivos de memória, trunquei um pouco o range do k"
   ]
  },
  {
   "cell_type": "code",
   "execution_count": 17,
   "id": "231a673d-96ad-4452-8ea9-0b0e586ff54b",
   "metadata": {},
   "outputs": [
    {
     "name": "stdout",
     "output_type": "stream",
     "text": [
      "\n",
      " REGRESSOR POLINOMIAL COM REGULARIZAÇÃO LASSO (L1):\n",
      "\n",
      " K   DENTRO da amostra   FORA da amostra\n",
      "---   ----------------   ---------------\n",
      "   1     1         328608.0581       342929.6071\n",
      "   1     2         328608.2478       342928.1442\n",
      "   1     3         328608.5641       342927.1099\n",
      "   1     4         328609.0068       342926.5042\n",
      "   1     5         328609.5760       342926.3267\n",
      "   1     6         328610.2716       342926.5779\n",
      "   1     7         328611.0935       342927.2567\n",
      "   1     8         328612.0421       342928.3650\n",
      "   1     9         328613.1170       342929.9009\n"
     ]
    },
    {
     "name": "stderr",
     "output_type": "stream",
     "text": [
      "C:\\Users\\andre\\anaconda3\\Lib\\site-packages\\sklearn\\linear_model\\_coordinate_descent.py:631: ConvergenceWarning: Objective did not converge. You might want to increase the number of iterations, check the scale of the features or consider increasing regularisation. Duality gap: 5.243e+13, tolerance: 1.214e+11\n",
      "  model = cd_fast.enet_coordinate_descent(\n"
     ]
    },
    {
     "name": "stdout",
     "output_type": "stream",
     "text": [
      "   2     1         248131.8560       372068.1487\n"
     ]
    },
    {
     "name": "stderr",
     "output_type": "stream",
     "text": [
      "C:\\Users\\andre\\anaconda3\\Lib\\site-packages\\sklearn\\linear_model\\_coordinate_descent.py:631: ConvergenceWarning: Objective did not converge. You might want to increase the number of iterations, check the scale of the features or consider increasing regularisation. Duality gap: 1.607e+13, tolerance: 1.214e+11\n",
      "  model = cd_fast.enet_coordinate_descent(\n"
     ]
    },
    {
     "name": "stdout",
     "output_type": "stream",
     "text": [
      "   2     2         248411.6605       365636.2618\n"
     ]
    },
    {
     "name": "stderr",
     "output_type": "stream",
     "text": [
      "C:\\Users\\andre\\anaconda3\\Lib\\site-packages\\sklearn\\linear_model\\_coordinate_descent.py:631: ConvergenceWarning: Objective did not converge. You might want to increase the number of iterations, check the scale of the features or consider increasing regularisation. Duality gap: 1.671e+13, tolerance: 1.214e+11\n",
      "  model = cd_fast.enet_coordinate_descent(\n"
     ]
    },
    {
     "name": "stdout",
     "output_type": "stream",
     "text": [
      "   2     3         248702.3465       359655.8274\n",
      "   2     4         248945.0224       356525.1589\n",
      "   2     5         249055.7661       353910.1715\n",
      "   2     6         249129.8017       351315.1980\n",
      "   2     7         249213.4933       348801.7639\n",
      "   2     8         249309.6637       346342.9365\n",
      "   2     9         249416.8968       344135.0246\n"
     ]
    }
   ],
   "source": [
    "print('')\n",
    "print(\" REGRESSOR POLINOMIAL COM REGULARIZAÇÃO LASSO (L1):\")\n",
    "print('')\n",
    "\n",
    "print(\" K   DENTRO da amostra   FORA da amostra\")\n",
    "print(\"---   ----------------   ---------------\")\n",
    "\n",
    "for k in range (1,3):\n",
    "\n",
    "    pf = PolynomialFeatures(degree = k)\n",
    "\n",
    "    pf = pf.fit(x_treino)\n",
    "\n",
    "    x_treino_poly = pf.transform(x_treino)\n",
    "    x_teste_poly  = pf.transform(x_teste)\n",
    "\n",
    "    for j in range (1,10):\n",
    "        a = pow(10,j)\n",
    "        regressor_lasso = Lasso(alpha = j, max_iter = 10000)   # mudar o alpha para melhorar o modelo\n",
    "    \n",
    "        regressor_lasso = regressor_lasso.fit(x_treino_poly, y_treino)\n",
    "    \n",
    "        y_resposta_treino = regressor_lasso.predict(x_treino_poly)\n",
    "        y_resposta_teste  = regressor_lasso.predict(x_teste_poly)\n",
    "    \n",
    "        mse_in  = mean_squared_error(y_treino, y_resposta_treino)\n",
    "        rmse_in = math.sqrt(mse_in)\n",
    "        \n",
    "        mse_out  = mean_squared_error(y_teste, y_resposta_teste)\n",
    "        rmse_out = math.sqrt(mse_out)\n",
    "        \n",
    "        print(\" %3d   %3d   %17.4f   %15.4f\" % (k , j, rmse_in , rmse_out))"
   ]
  },
  {
   "cell_type": "markdown",
   "id": "526b6e32-6a8e-4282-a665-d2ead5b8303d",
   "metadata": {},
   "source": [
    "### Regressor SGD"
   ]
  },
  {
   "cell_type": "code",
   "execution_count": 18,
   "id": "a6f63ba3-0402-440f-aae2-422e55fd784f",
   "metadata": {},
   "outputs": [
    {
     "name": "stdout",
     "output_type": "stream",
     "text": [
      "\n",
      " REGRESSOR SGD:\n",
      "\n",
      "Métrica   DENTRO da amostra   FORA da amostra\n",
      "-------   -----------------   ---------------\n"
     ]
    },
    {
     "ename": "NameError",
     "evalue": "name 'r2_score' is not defined",
     "output_type": "error",
     "traceback": [
      "\u001b[1;31m---------------------------------------------------------------------------\u001b[0m",
      "\u001b[1;31mNameError\u001b[0m                                 Traceback (most recent call last)",
      "Cell \u001b[1;32mIn[18], line 26\u001b[0m\n\u001b[0;32m     24\u001b[0m mse_in  \u001b[38;5;241m=\u001b[39m mean_squared_error(y_treino, y_resposta_treino)\n\u001b[0;32m     25\u001b[0m rmse_in \u001b[38;5;241m=\u001b[39m math\u001b[38;5;241m.\u001b[39msqrt(mse_in)\n\u001b[1;32m---> 26\u001b[0m r2_in   \u001b[38;5;241m=\u001b[39m \u001b[43mr2_score\u001b[49m(y_treino, y_resposta_treino)\n\u001b[0;32m     28\u001b[0m mse_out  \u001b[38;5;241m=\u001b[39m mean_squared_error(y_teste, y_resposta_teste)\n\u001b[0;32m     29\u001b[0m rmse_out \u001b[38;5;241m=\u001b[39m math\u001b[38;5;241m.\u001b[39msqrt(mse_out)\n",
      "\u001b[1;31mNameError\u001b[0m: name 'r2_score' is not defined"
     ]
    }
   ],
   "source": [
    "print('')\n",
    "print(\" REGRESSOR SGD:\")\n",
    "print('')\n",
    "\n",
    "print(\"Métrica   DENTRO da amostra   FORA da amostra\")\n",
    "print(\"-------   -----------------   ---------------\")\n",
    "\n",
    "for k in range(1, 5):\n",
    "    \n",
    "    a = pow(10,k)\n",
    "    \n",
    "    regressor_sgd = SGDRegressor(loss = \"squared_error\",\n",
    "                                 alpha = a,\n",
    "                                 penalty = \"l2\",\n",
    "                                 tol=1e-5,\n",
    "                                 max_iter = 100000\n",
    "                                )   # mudar hiperparâmetros para melhorar o modelo\n",
    "    \n",
    "    regressor_sgd = regressor_sgd.fit(x_treino, y_treino)\n",
    "    \n",
    "    y_resposta_treino = regressor_sgd.predict(x_treino)\n",
    "    y_resposta_teste  = regressor_sgd.predict(x_teste)\n",
    "    \n",
    "    mse_in  = mean_squared_error(y_treino, y_resposta_treino)\n",
    "    rmse_in = math.sqrt(mse_in)\n",
    "    \n",
    "    mse_out  = mean_squared_error(y_teste, y_resposta_teste)\n",
    "    rmse_out = math.sqrt(mse_out)\n",
    "    \n",
    "    print(\"%7s   %17.4f   %15.4f\" % (\"rmse\" , rmse_in , rmse_out))"
   ]
  }
 ],
 "metadata": {
  "kernelspec": {
   "display_name": "Python 3 (ipykernel)",
   "language": "python",
   "name": "python3"
  },
  "language_info": {
   "codemirror_mode": {
    "name": "ipython",
    "version": 3
   },
   "file_extension": ".py",
   "mimetype": "text/x-python",
   "name": "python",
   "nbconvert_exporter": "python",
   "pygments_lexer": "ipython3",
   "version": "3.11.5"
  }
 },
 "nbformat": 4,
 "nbformat_minor": 5
}
