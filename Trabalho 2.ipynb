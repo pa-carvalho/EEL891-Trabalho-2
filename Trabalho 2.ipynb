{
 "cells": [
  {
   "cell_type": "markdown",
   "id": "8d0d0cd1-a468-457e-8884-1fe334cd5833",
   "metadata": {},
   "source": [
    "# Trabalho 2"
   ]
  },
  {
   "cell_type": "markdown",
   "id": "05ded0a5-824e-4b91-b13d-979646d29578",
   "metadata": {},
   "source": [
    "### Importando as bibliotecas que serão usadas no script inteiro"
   ]
  },
  {
   "cell_type": "code",
   "execution_count": null,
   "id": "6f8ee51e-88eb-42eb-848b-437ed29f410c",
   "metadata": {},
   "outputs": [],
   "source": [
    "import math\n",
    "import pandas  as pd\n",
    "import numpy   as np\n",
    "\n",
    "import matplotlib.pyplot as plt\n",
    "\n",
    "from sklearn.model_selection  import train_test_split\n",
    "from sklearn.metrics          import mean_squared_error, r2_score\n",
    "from sklearn.preprocessing    import StandardScaler, MinMaxScaler, PolynomialFeatures\n",
    "\n",
    "from sklearn.linear_model     import LinearRegression\n",
    "from sklearn.neighbors        import KNeighborsRegressor"
   ]
  },
  {
   "cell_type": "code",
   "execution_count": null,
   "id": "6eedfce2-c864-4acb-b52f-6b03ff02b371",
   "metadata": {},
   "outputs": [],
   "source": [
    "dados = pd.read_csv(\"conjunto_de_treinamento.csv\")"
   ]
  },
  {
   "cell_type": "code",
   "execution_count": null,
   "id": "6760a52d-cd2b-439b-8525-ef5e7e24d77c",
   "metadata": {},
   "outputs": [],
   "source": [
    "x = dados.iloc[:,1:-1].to_numpy()\n",
    "y = dados.iloc[:,-1].to_numpy()\n",
    "\n",
    "print(x)\n",
    "print(\"---------------------------\")\n",
    "print(y)\n",
    "\n",
    "# 4683 total de amostras\n",
    "\n",
    "x_treino, y_treino, x_teste, y_teste = train_test_split(\n",
    "    x,\n",
    "    y,\n",
    "    train_size = 3500,\n",
    "    random_state = 0\n",
    ")\n",
    "\n",
    "# testar com e sem escala\n",
    "\n",
    "# escala = StandardScaler()\n",
    "# escala.fit(x_treino)\n",
    "\n",
    "# x_treino = escala.transform(x_treino)\n",
    "# x_teste  = escala.transform(x_teste)\n",
    "\n",
    "regressor_linear = LinearRegression()\n",
    "regressor_linear = regressor_linear.fit(x_treino, y_treino)\n",
    "\n",
    "y_resposta_treino = regressor_linear.predict(x_treino)\n",
    "y_resposta_teste  = regressor_linear.predict(x_teste)\n",
    "\n",
    "print('')\n",
    "print(\"REGRESSOR LINEAR:\")\n",
    "print('')\n",
    "\n",
    "print(\"Métrica   DENTRO da amostra   FORA da amostra\")\n",
    "print(\"-------   -----------------   ---------------\")\n",
    "\n",
    "mse_in  = mean_squared_error(y_treino, y_resposta_treino)\n",
    "rmse_in = math.sqrt(mse_in)\n",
    "r2_in   = r2_score(y_treino, y_resposta_treino)\n",
    "#rmspe_in = (np.sqrt(np.mean(np.square((y_true - y_pred) / y_true)))) * 100\n",
    "\n",
    "mse_out  = mean_squared_error(y_teste, y_resposta_teste)\n",
    "rmse_out = math.sqrt(mse_out)\n",
    "r2_out   = r2_score(y_teste, y_resposta_teste)\n",
    "#rmspe_out = (np.sqrt(np.mean(np.square((y_true - y_pred) / y_true)))) * 100\n",
    "\n",
    "print(\"%7s   %17.4f   %15.4f\" % (\"mse\"  , mse_in  , mse_out))\n",
    "print(\"%7s   %17.4f   %15.4f\" % (\"rmse\" , rmse_in , rmse_out))\n",
    "print(\"%7s   %17.4f   %15.4f\" % (\"r2\"   , r2_in   , r2_out))\n",
    "\n",
    "plt.scatter(x = y_teste, y = y_resposta_teste)"
   ]
  },
  {
   "cell_type": "markdown",
   "id": "ca0415ab-eb80-4b5e-a88c-e347f73ad114",
   "metadata": {},
   "source": [
    "### Regressor KNN"
   ]
  },
  {
   "cell_type": "code",
   "execution_count": null,
   "id": "4a708bb9-7a1d-405b-bf10-8cea656e5651",
   "metadata": {},
   "outputs": [],
   "source": [
    "for k in range (1,21):\n",
    "    \n",
    "    regressor_knn   = KNeighborsRegressor(\n",
    "        n_neighbors = k,\n",
    "        weights     = \"uniform\"      # uniform ou distance\n",
    "    )\n",
    "    regressor_knn = regressor_knn.fit(x_treino, y_treino)\n",
    "\n",
    "    y_resposta_treino = regressor_knn.predict(x_treino)\n",
    "    y_resposta_teste  = regressor_knn.predict(x_teste)\n",
    "\n",
    "    print('')\n",
    "    print(\" REGRESSOR KNN:\")\n",
    "    print('')\n",
    "\n",
    "    print(\" K   DENTRO da amostra   FORA da amostra\")\n",
    "    print(\"---   ----------------   ---------------\")\n",
    "\n",
    "    mse_in  = mean_squared_error(y_treino, y_resposta_treino)\n",
    "    rmse_in = math.sqrt(mse_in)\n",
    "    r2_in   = r2_score(y_treino, y_resposta_treino)\n",
    "    #rmspe_in = (np.sqrt(np.mean(np.square((y_true - y_pred) / y_true)))) * 100\n",
    "    \n",
    "    mse_out  = mean_squared_error(y_teste, y_resposta_teste)\n",
    "    rmse_out = math.sqrt(mse_out)\n",
    "    r2_out   = r2_score(y_teste, y_resposta_teste)\n",
    "    #rmspe_out = (np.sqrt(np.mean(np.square((y_true - y_pred) / y_true)))) * 100\n",
    "    \n",
    "    print(\" %3d   %17.4f   %15.4f\" % (k , rmse_in , rmse_out))"
   ]
  }
 ],
 "metadata": {
  "kernelspec": {
   "display_name": "Python 3 (ipykernel)",
   "language": "python",
   "name": "python3"
  },
  "language_info": {
   "codemirror_mode": {
    "name": "ipython",
    "version": 3
   },
   "file_extension": ".py",
   "mimetype": "text/x-python",
   "name": "python",
   "nbconvert_exporter": "python",
   "pygments_lexer": "ipython3",
   "version": "3.11.5"
  }
 },
 "nbformat": 4,
 "nbformat_minor": 5
}
